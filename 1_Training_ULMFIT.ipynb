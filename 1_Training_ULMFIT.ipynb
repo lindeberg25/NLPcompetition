{
 "cells": [
  {
   "cell_type": "markdown",
   "metadata": {
    "heading_collapsed": true
   },
   "source": [
    "## Importing Libraries"
   ]
  },
  {
   "cell_type": "code",
   "execution_count": 1,
   "metadata": {
    "ExecuteTime": {
     "end_time": "2021-01-08T23:44:05.939798Z",
     "start_time": "2021-01-08T23:44:02.668719Z"
    },
    "hidden": true
   },
   "outputs": [],
   "source": [
    "from fastai.text.all import *"
   ]
  },
  {
   "cell_type": "markdown",
   "metadata": {
    "heading_collapsed": true
   },
   "source": [
    "## Load Data"
   ]
  },
  {
   "cell_type": "code",
   "execution_count": 2,
   "metadata": {
    "ExecuteTime": {
     "end_time": "2021-01-08T23:44:09.460151Z",
     "start_time": "2021-01-08T23:44:09.457057Z"
    },
    "hidden": true
   },
   "outputs": [],
   "source": [
    "path = Path(\"../data/identify_the_sentiments/\")"
   ]
  },
  {
   "cell_type": "code",
   "execution_count": 3,
   "metadata": {
    "ExecuteTime": {
     "end_time": "2021-01-08T23:44:10.132470Z",
     "start_time": "2021-01-08T23:44:10.071574Z"
    },
    "hidden": true
   },
   "outputs": [],
   "source": [
    "train_df = pd.read_csv(path/'train_2kmZucJ.csv')\n",
    "train_df = train_df.rename(columns={'tweet':'text'})\n",
    "test_df = pd.read_csv(path/'test_oJQbWVk.csv')\n",
    "test_df = test_df.rename(columns={'tweet':'text'})\n"
   ]
  },
  {
   "cell_type": "code",
   "execution_count": 4,
   "metadata": {
    "ExecuteTime": {
     "end_time": "2021-01-08T23:44:10.745439Z",
     "start_time": "2021-01-08T23:44:10.734405Z"
    },
    "hidden": true
   },
   "outputs": [
    {
     "data": {
      "text/html": [
       "<div>\n",
       "<style scoped>\n",
       "    .dataframe tbody tr th:only-of-type {\n",
       "        vertical-align: middle;\n",
       "    }\n",
       "\n",
       "    .dataframe tbody tr th {\n",
       "        vertical-align: top;\n",
       "    }\n",
       "\n",
       "    .dataframe thead th {\n",
       "        text-align: right;\n",
       "    }\n",
       "</style>\n",
       "<table border=\"1\" class=\"dataframe\">\n",
       "  <thead>\n",
       "    <tr style=\"text-align: right;\">\n",
       "      <th></th>\n",
       "      <th>id</th>\n",
       "      <th>label</th>\n",
       "      <th>text</th>\n",
       "    </tr>\n",
       "  </thead>\n",
       "  <tbody>\n",
       "    <tr>\n",
       "      <th>0</th>\n",
       "      <td>1</td>\n",
       "      <td>0</td>\n",
       "      <td>#fingerprint #Pregnancy Test https://goo.gl/h1MfQV #android #apps #beautiful #cute #health #igers #iphoneonly #iphonesia #iphone</td>\n",
       "    </tr>\n",
       "    <tr>\n",
       "      <th>1</th>\n",
       "      <td>2</td>\n",
       "      <td>0</td>\n",
       "      <td>Finally a transparant silicon case ^^ Thanks to my uncle :) #yay #Sony #Xperia #S #sonyexperias… http://instagram.com/p/YGEt5JC6JM/</td>\n",
       "    </tr>\n",
       "    <tr>\n",
       "      <th>2</th>\n",
       "      <td>3</td>\n",
       "      <td>0</td>\n",
       "      <td>We love this! Would you go? #talk #makememories #unplug #relax #iphone #smartphone #wifi #connect... http://fb.me/6N3LsUpCu</td>\n",
       "    </tr>\n",
       "    <tr>\n",
       "      <th>3</th>\n",
       "      <td>4</td>\n",
       "      <td>0</td>\n",
       "      <td>I'm wired I know I'm George I was made that way ;) #iphone #cute #daventry #home http://instagr.am/p/Li_5_ujS4k/</td>\n",
       "    </tr>\n",
       "    <tr>\n",
       "      <th>4</th>\n",
       "      <td>5</td>\n",
       "      <td>1</td>\n",
       "      <td>What amazing service! Apple won't even talk to me about a question I have unless I pay them $19.95 for their stupid support!</td>\n",
       "    </tr>\n",
       "  </tbody>\n",
       "</table>\n",
       "</div>"
      ],
      "text/plain": [
       "   id  label  \\\n",
       "0   1      0   \n",
       "1   2      0   \n",
       "2   3      0   \n",
       "3   4      0   \n",
       "4   5      1   \n",
       "\n",
       "                                                                                                                                  text  \n",
       "0     #fingerprint #Pregnancy Test https://goo.gl/h1MfQV #android #apps #beautiful #cute #health #igers #iphoneonly #iphonesia #iphone  \n",
       "1  Finally a transparant silicon case ^^ Thanks to my uncle :) #yay #Sony #Xperia #S #sonyexperias… http://instagram.com/p/YGEt5JC6JM/  \n",
       "2          We love this! Would you go? #talk #makememories #unplug #relax #iphone #smartphone #wifi #connect... http://fb.me/6N3LsUpCu  \n",
       "3                     I'm wired I know I'm George I was made that way ;) #iphone #cute #daventry #home http://instagr.am/p/Li_5_ujS4k/  \n",
       "4         What amazing service! Apple won't even talk to me about a question I have unless I pay them $19.95 for their stupid support!  "
      ]
     },
     "execution_count": 4,
     "metadata": {},
     "output_type": "execute_result"
    }
   ],
   "source": [
    "train_df.head()"
   ]
  },
  {
   "cell_type": "code",
   "execution_count": 5,
   "metadata": {
    "ExecuteTime": {
     "end_time": "2021-01-08T23:44:11.447792Z",
     "start_time": "2021-01-08T23:44:11.439636Z"
    },
    "hidden": true
   },
   "outputs": [
    {
     "data": {
      "text/html": [
       "<div>\n",
       "<style scoped>\n",
       "    .dataframe tbody tr th:only-of-type {\n",
       "        vertical-align: middle;\n",
       "    }\n",
       "\n",
       "    .dataframe tbody tr th {\n",
       "        vertical-align: top;\n",
       "    }\n",
       "\n",
       "    .dataframe thead th {\n",
       "        text-align: right;\n",
       "    }\n",
       "</style>\n",
       "<table border=\"1\" class=\"dataframe\">\n",
       "  <thead>\n",
       "    <tr style=\"text-align: right;\">\n",
       "      <th></th>\n",
       "      <th>id</th>\n",
       "      <th>text</th>\n",
       "    </tr>\n",
       "  </thead>\n",
       "  <tbody>\n",
       "    <tr>\n",
       "      <th>0</th>\n",
       "      <td>7921</td>\n",
       "      <td>I hate the new #iphone upgrade. Won't let me download apps. #ugh #apple sucks</td>\n",
       "    </tr>\n",
       "    <tr>\n",
       "      <th>1</th>\n",
       "      <td>7922</td>\n",
       "      <td>currently shitting my fucking pants. #apple #iMac #cashmoney #raddest #swagswagswag http://instagr.am/p/UUIS0bIBZo/</td>\n",
       "    </tr>\n",
       "    <tr>\n",
       "      <th>2</th>\n",
       "      <td>7923</td>\n",
       "      <td>I'd like to puts some CD-ROMS on my iPad, is that possible?' — Yes, but wouldn't that block the screen?\\n</td>\n",
       "    </tr>\n",
       "    <tr>\n",
       "      <th>3</th>\n",
       "      <td>7924</td>\n",
       "      <td>My ipod is officially dead. I lost all my pictures and videos from the 1D and 5sos concert,and from Vet Camp #hatinglife #sobbing</td>\n",
       "    </tr>\n",
       "    <tr>\n",
       "      <th>4</th>\n",
       "      <td>7925</td>\n",
       "      <td>Been fighting iTunes all night! I only want the music I $&amp;@*# paid for</td>\n",
       "    </tr>\n",
       "  </tbody>\n",
       "</table>\n",
       "</div>"
      ],
      "text/plain": [
       "     id  \\\n",
       "0  7921   \n",
       "1  7922   \n",
       "2  7923   \n",
       "3  7924   \n",
       "4  7925   \n",
       "\n",
       "                                                                                                                                text  \n",
       "0                                                      I hate the new #iphone upgrade. Won't let me download apps. #ugh #apple sucks  \n",
       "1                currently shitting my fucking pants. #apple #iMac #cashmoney #raddest #swagswagswag http://instagr.am/p/UUIS0bIBZo/  \n",
       "2                          I'd like to puts some CD-ROMS on my iPad, is that possible?' — Yes, but wouldn't that block the screen?\\n  \n",
       "3  My ipod is officially dead. I lost all my pictures and videos from the 1D and 5sos concert,and from Vet Camp #hatinglife #sobbing  \n",
       "4                                                             Been fighting iTunes all night! I only want the music I $&@*# paid for  "
      ]
     },
     "execution_count": 5,
     "metadata": {},
     "output_type": "execute_result"
    }
   ],
   "source": [
    "test_df.head()"
   ]
  },
  {
   "cell_type": "markdown",
   "metadata": {},
   "source": [
    "## Training a Language Model"
   ]
  },
  {
   "cell_type": "code",
   "execution_count": 6,
   "metadata": {
    "ExecuteTime": {
     "end_time": "2021-01-08T23:44:14.598365Z",
     "start_time": "2021-01-08T23:44:14.591695Z"
    }
   },
   "outputs": [],
   "source": [
    "## Combining all the textual data\n",
    "df_all = pd.concat([train_df.drop(['label'], axis=1),test_df])"
   ]
  },
  {
   "cell_type": "code",
   "execution_count": 7,
   "metadata": {
    "ExecuteTime": {
     "end_time": "2021-01-08T23:44:23.502317Z",
     "start_time": "2021-01-08T23:44:15.143725Z"
    }
   },
   "outputs": [
    {
     "data": {
      "text/html": [],
      "text/plain": [
       "<IPython.core.display.HTML object>"
      ]
     },
     "metadata": {},
     "output_type": "display_data"
    },
    {
     "data": {
      "text/html": [
       "<table border=\"1\" class=\"dataframe\">\n",
       "  <thead>\n",
       "    <tr style=\"text-align: right;\">\n",
       "      <th></th>\n",
       "      <th>text</th>\n",
       "      <th>text_</th>\n",
       "    </tr>\n",
       "  </thead>\n",
       "  <tbody>\n",
       "    <tr>\n",
       "      <th>0</th>\n",
       "      <td>xxbos a xxrep 3 h all i want to do is save all my photos on the cloud somewhere from my ipad but it 's xxunk impossible xxbos xxmaj xxunk # xxmaj siri , you 're so sweet , now i love ya even more … # iphone http : / / instagram.com / p / xxunk / xxbos … awesome . xxmaj the new xxmaj mac update for iphoto now means</td>\n",
       "      <td>a xxrep 3 h all i want to do is save all my photos on the cloud somewhere from my ipad but it 's xxunk impossible xxbos xxmaj xxunk # xxmaj siri , you 're so sweet , now i love ya even more … # iphone http : / / instagram.com / p / xxunk / xxbos … awesome . xxmaj the new xxmaj mac update for iphoto now means i</td>\n",
       "    </tr>\n",
       "    <tr>\n",
       "      <th>1</th>\n",
       "      <td>xxunk xxunk % . # xxunk xxbos xxmaj going to see if i can xxunk my $ &amp; @ * # iphone for another phone ! xxmaj all ios7 's fault ! # apple # xxunk xxbos xxmaj new macbook xxmaj pro xxmaj retina ! ! # apple # macbookpro # retina # life # business # work # spring … https : / / instagram.com / p / xxunk / xxbos</td>\n",
       "      <td>xxunk % . # xxunk xxbos xxmaj going to see if i can xxunk my $ &amp; @ * # iphone for another phone ! xxmaj all ios7 's fault ! # apple # xxunk xxbos xxmaj new macbook xxmaj pro xxmaj retina ! ! # apple # macbookpro # retina # life # business # work # spring … https : / / instagram.com / p / xxunk / xxbos xxmaj</td>\n",
       "    </tr>\n",
       "    <tr>\n",
       "      <th>2</th>\n",
       "      <td>click here https : / / tinyurl.com / xxunk pic.twitter.com / xxunk xxbos 10 minutes ago my battery was at 35 % .. currently ? ? 8 xxunk percent . # iphone xxbos # xxunk finally fixed , so fast , so xxunk ! xxmaj thx # &lt;3 # oneplus xxbos xxmaj who are you waiting for ? # wait # you # cute # afternoon # iphone # xxunk # dog</td>\n",
       "      <td>here https : / / tinyurl.com / xxunk pic.twitter.com / xxunk xxbos 10 minutes ago my battery was at 35 % .. currently ? ? 8 xxunk percent . # iphone xxbos # xxunk finally fixed , so fast , so xxunk ! xxmaj thx # &lt;3 # oneplus xxbos xxmaj who are you waiting for ? # wait # you # cute # afternoon # iphone # xxunk # dog #</td>\n",
       "    </tr>\n",
       "    <tr>\n",
       "      <th>3</th>\n",
       "      <td>blue # apple http : / / instagram.com / p / xxunk / xxbos xxmaj welcome to my world , iphone 6 =] # iphone6 # iphone # apple # life # xxunk http : / / instagram.com / p / xxunk / xxbos xxmaj luxury xxmaj fundas xxmaj woo … and much more at xxmaj zeta xxmaj supplies . xxmaj click the link - http : / / zetasupplies.co.uk / products</td>\n",
       "      <td># apple http : / / instagram.com / p / xxunk / xxbos xxmaj welcome to my world , iphone 6 =] # iphone6 # iphone # apple # life # xxunk http : / / instagram.com / p / xxunk / xxbos xxmaj luxury xxmaj fundas xxmaj woo … and much more at xxmaj zeta xxmaj supplies . xxmaj click the link - http : / / zetasupplies.co.uk / products /</td>\n",
       "    </tr>\n",
       "    <tr>\n",
       "      <th>4</th>\n",
       "      <td>home # iphone # ipad # gadgets # gifts # ios # cars # bike # xxmaj android # xxmaj samsung # galaxy # xxmaj google http : / / crwd.fr / xxunk pic.twitter.com / xxunk xxbos # its # me # xxmaj xxunk # orange # pictureoftheday # samsung # xxunk # galaxy # xxup s2 # blonde xxunk … http : / / instagram.com / p / xxunk / xxbos</td>\n",
       "      <td># iphone # ipad # gadgets # gifts # ios # cars # bike # xxmaj android # xxmaj samsung # galaxy # xxmaj google http : / / crwd.fr / xxunk pic.twitter.com / xxunk xxbos # its # me # xxmaj xxunk # orange # pictureoftheday # samsung # xxunk # galaxy # xxup s2 # blonde xxunk … http : / / instagram.com / p / xxunk / xxbos xxmaj</td>\n",
       "    </tr>\n",
       "  </tbody>\n",
       "</table>"
      ],
      "text/plain": [
       "<IPython.core.display.HTML object>"
      ]
     },
     "metadata": {},
     "output_type": "display_data"
    }
   ],
   "source": [
    "## Creating a Text Data loader for language model\n",
    "dls_lm = TextDataLoaders.from_df(df_all, text_col=1, is_lm=True)\n",
    "dls_lm.show_batch(max_n=5)"
   ]
  },
  {
   "cell_type": "code",
   "execution_count": 8,
   "metadata": {
    "ExecuteTime": {
     "end_time": "2021-01-08T23:44:23.902154Z",
     "start_time": "2021-01-08T23:44:23.504383Z"
    }
   },
   "outputs": [],
   "source": [
    "## Initiating the language model\n",
    "learn = language_model_learner(\n",
    "    dls_lm, \n",
    "    AWD_LSTM, \n",
    "    metrics=[accuracy, Perplexity()], \n",
    "    path=path, \n",
    "    wd=0.1).to_fp16()"
   ]
  },
  {
   "cell_type": "code",
   "execution_count": 9,
   "metadata": {
    "ExecuteTime": {
     "end_time": "2021-01-08T23:45:44.027209Z",
     "start_time": "2021-01-08T23:44:23.904418Z"
    }
   },
   "outputs": [
    {
     "data": {
      "text/html": [
       "<table border=\"1\" class=\"dataframe\">\n",
       "  <thead>\n",
       "    <tr style=\"text-align: left;\">\n",
       "      <th>epoch</th>\n",
       "      <th>train_loss</th>\n",
       "      <th>valid_loss</th>\n",
       "      <th>accuracy</th>\n",
       "      <th>perplexity</th>\n",
       "      <th>time</th>\n",
       "    </tr>\n",
       "  </thead>\n",
       "  <tbody>\n",
       "    <tr>\n",
       "      <td>0</td>\n",
       "      <td>5.027797</td>\n",
       "      <td>3.592271</td>\n",
       "      <td>0.397588</td>\n",
       "      <td>36.316452</td>\n",
       "      <td>00:16</td>\n",
       "    </tr>\n",
       "    <tr>\n",
       "      <td>1</td>\n",
       "      <td>4.018194</td>\n",
       "      <td>3.191223</td>\n",
       "      <td>0.444724</td>\n",
       "      <td>24.318148</td>\n",
       "      <td>00:15</td>\n",
       "    </tr>\n",
       "    <tr>\n",
       "      <td>2</td>\n",
       "      <td>3.559542</td>\n",
       "      <td>3.027364</td>\n",
       "      <td>0.464616</td>\n",
       "      <td>20.642757</td>\n",
       "      <td>00:15</td>\n",
       "    </tr>\n",
       "    <tr>\n",
       "      <td>3</td>\n",
       "      <td>3.326017</td>\n",
       "      <td>2.967018</td>\n",
       "      <td>0.471579</td>\n",
       "      <td>19.433884</td>\n",
       "      <td>00:15</td>\n",
       "    </tr>\n",
       "    <tr>\n",
       "      <td>4</td>\n",
       "      <td>3.208390</td>\n",
       "      <td>2.957968</td>\n",
       "      <td>0.472239</td>\n",
       "      <td>19.258808</td>\n",
       "      <td>00:15</td>\n",
       "    </tr>\n",
       "  </tbody>\n",
       "</table>"
      ],
      "text/plain": [
       "<IPython.core.display.HTML object>"
      ]
     },
     "metadata": {},
     "output_type": "display_data"
    }
   ],
   "source": [
    "## Training last layer\n",
    "learn.fit_one_cycle(5, 1e-2)"
   ]
  },
  {
   "cell_type": "code",
   "execution_count": 11,
   "metadata": {
    "ExecuteTime": {
     "end_time": "2021-01-08T23:48:53.680887Z",
     "start_time": "2021-01-08T23:45:44.365355Z"
    }
   },
   "outputs": [
    {
     "data": {
      "text/html": [
       "<table border=\"1\" class=\"dataframe\">\n",
       "  <thead>\n",
       "    <tr style=\"text-align: left;\">\n",
       "      <th>epoch</th>\n",
       "      <th>train_loss</th>\n",
       "      <th>valid_loss</th>\n",
       "      <th>accuracy</th>\n",
       "      <th>perplexity</th>\n",
       "      <th>time</th>\n",
       "    </tr>\n",
       "  </thead>\n",
       "  <tbody>\n",
       "    <tr>\n",
       "      <td>0</td>\n",
       "      <td>3.083944</td>\n",
       "      <td>2.874427</td>\n",
       "      <td>0.483968</td>\n",
       "      <td>17.715277</td>\n",
       "      <td>00:19</td>\n",
       "    </tr>\n",
       "    <tr>\n",
       "      <td>1</td>\n",
       "      <td>2.951321</td>\n",
       "      <td>2.760319</td>\n",
       "      <td>0.497860</td>\n",
       "      <td>15.804892</td>\n",
       "      <td>00:19</td>\n",
       "    </tr>\n",
       "    <tr>\n",
       "      <td>2</td>\n",
       "      <td>2.825868</td>\n",
       "      <td>2.801350</td>\n",
       "      <td>0.492643</td>\n",
       "      <td>16.466856</td>\n",
       "      <td>00:18</td>\n",
       "    </tr>\n",
       "    <tr>\n",
       "      <td>3</td>\n",
       "      <td>2.724147</td>\n",
       "      <td>2.616971</td>\n",
       "      <td>0.521871</td>\n",
       "      <td>13.694175</td>\n",
       "      <td>00:19</td>\n",
       "    </tr>\n",
       "    <tr>\n",
       "      <td>4</td>\n",
       "      <td>2.617326</td>\n",
       "      <td>2.579108</td>\n",
       "      <td>0.527438</td>\n",
       "      <td>13.185374</td>\n",
       "      <td>00:18</td>\n",
       "    </tr>\n",
       "    <tr>\n",
       "      <td>5</td>\n",
       "      <td>2.531577</td>\n",
       "      <td>2.542779</td>\n",
       "      <td>0.532831</td>\n",
       "      <td>12.714956</td>\n",
       "      <td>00:18</td>\n",
       "    </tr>\n",
       "    <tr>\n",
       "      <td>6</td>\n",
       "      <td>2.458514</td>\n",
       "      <td>2.516879</td>\n",
       "      <td>0.537753</td>\n",
       "      <td>12.389866</td>\n",
       "      <td>00:18</td>\n",
       "    </tr>\n",
       "    <tr>\n",
       "      <td>7</td>\n",
       "      <td>2.410636</td>\n",
       "      <td>2.506086</td>\n",
       "      <td>0.541144</td>\n",
       "      <td>12.256858</td>\n",
       "      <td>00:19</td>\n",
       "    </tr>\n",
       "    <tr>\n",
       "      <td>8</td>\n",
       "      <td>2.368439</td>\n",
       "      <td>2.501094</td>\n",
       "      <td>0.541619</td>\n",
       "      <td>12.195827</td>\n",
       "      <td>00:18</td>\n",
       "    </tr>\n",
       "    <tr>\n",
       "      <td>9</td>\n",
       "      <td>2.366574</td>\n",
       "      <td>2.501034</td>\n",
       "      <td>0.541729</td>\n",
       "      <td>12.195101</td>\n",
       "      <td>00:18</td>\n",
       "    </tr>\n",
       "  </tbody>\n",
       "</table>"
      ],
      "text/plain": [
       "<IPython.core.display.HTML object>"
      ]
     },
     "metadata": {},
     "output_type": "display_data"
    }
   ],
   "source": [
    "## Training all layers\n",
    "learn.unfreeze()\n",
    "learn.fit_one_cycle(10, 1e-3)"
   ]
  },
  {
   "cell_type": "code",
   "execution_count": 12,
   "metadata": {
    "ExecuteTime": {
     "end_time": "2021-01-08T23:48:53.942763Z",
     "start_time": "2021-01-08T23:48:53.682722Z"
    }
   },
   "outputs": [],
   "source": [
    "## Saving encoder \n",
    "learn.save_encoder('finetuned')"
   ]
  },
  {
   "cell_type": "markdown",
   "metadata": {},
   "source": [
    "## Training a Classifier"
   ]
  },
  {
   "cell_type": "code",
   "execution_count": 13,
   "metadata": {
    "ExecuteTime": {
     "end_time": "2021-01-08T23:50:38.991555Z",
     "start_time": "2021-01-08T23:50:33.444810Z"
    }
   },
   "outputs": [
    {
     "data": {
      "text/html": [],
      "text/plain": [
       "<IPython.core.display.HTML object>"
      ]
     },
     "metadata": {},
     "output_type": "display_data"
    }
   ],
   "source": [
    "## Creating a dataloader \n",
    "dls_clas = TextDataLoaders.from_df(\n",
    "    train_df, \n",
    "    valid_pct=0.2,\n",
    "    seed=42,\n",
    "    text_col=2,\n",
    "    label_col=1,\n",
    "    text_vocab=dls_lm.vocab)"
   ]
  },
  {
   "cell_type": "code",
   "execution_count": 14,
   "metadata": {
    "ExecuteTime": {
     "end_time": "2021-01-08T23:50:39.066588Z",
     "start_time": "2021-01-08T23:50:38.993475Z"
    }
   },
   "outputs": [
    {
     "data": {
      "text/html": [
       "<table border=\"1\" class=\"dataframe\">\n",
       "  <thead>\n",
       "    <tr style=\"text-align: right;\">\n",
       "      <th></th>\n",
       "      <th>text</th>\n",
       "      <th>category</th>\n",
       "    </tr>\n",
       "  </thead>\n",
       "  <tbody>\n",
       "    <tr>\n",
       "      <th>0</th>\n",
       "      <td>xxbos xxup xxunk xxmaj bluetooth xxmaj smartwatch xxmaj smart xxmaj watch with xxup sim xxmaj card xxmaj slot and xxunk xxmaj camera for iphone / xxmaj samsung and xxmaj android xxmaj phones https : / / xxunk / products / xxunk - smartwatch - smart - watch - with - sim - card - slot - xxunk - xxunk - camera - for - iphone - samsung - and - android - phones … # xxmaj bluetooth # xxmaj smartwatch # xxmaj smart # xxmaj watch # xxup sim # xxmaj card # xxmaj slot # xxmaj camera # iphone # xxmaj samsung # xxmaj android # xxmaj phones # sports # cute # pretty</td>\n",
       "      <td>0</td>\n",
       "    </tr>\n",
       "    <tr>\n",
       "      <th>1</th>\n",
       "      <td>xxbos xxmaj use xxmaj google xxmaj assistant on xxmaj your iphone xxmaj even xxmaj if xxmaj it 's xxmaj not xxmaj on the xxmaj xxunk # siri # apple # ios # iphone # ipad # smartphones # mobile # tech # info # howto # nice # google # xxunk # xxunk # youtube # netflix # nice # productivity # xxunk https : / / techinwire.com / 2018 / 02 / 09 / use - google - assistant - on - your - iphone - even - if - its - not - on - the - xxunk / … pic.twitter.com / xxunk</td>\n",
       "      <td>0</td>\n",
       "    </tr>\n",
       "    <tr>\n",
       "      <th>2</th>\n",
       "      <td>xxbos xxmaj sleep : a xxmaj key xxmaj xxunk to xxmaj happy , xxmaj healthy and xxmaj productive xxmaj lives .. https : / / xxrep 3 w xxunk / monthly - xxunk / health - link - new / xxunk - a - key - xxunk - to - happy - healthy - and - productive - lives … # productive # healthy # health # glad # smile # xxunk # monthly # daily # article # health # healthy # mac # apple # working # xxunk # work # xxunk # thursday # ha xxrep 5 p xxunk / xxunk</td>\n",
       "      <td>0</td>\n",
       "    </tr>\n",
       "    <tr>\n",
       "      <th>3</th>\n",
       "      <td>xxbos xxmaj if xxmaj you xxmaj like xxmaj sports , xxmaj those 3 xxmaj games xxmaj should xxmaj be in xxmaj your xxmaj pocket # game # gaming # xxunk # mobile # smartphone # app # google # apple # ios # android # trend # tech # enjoy # soccer # basketball # xxmaj xxunk # sports # competition # winning # relax # family https : / / techinwire.com / 2018 / 02 / 16 / if - you - like - sports - xxunk - should - be - in - your - pocket / … pic.twitter.com / xxunk</td>\n",
       "      <td>0</td>\n",
       "    </tr>\n",
       "    <tr>\n",
       "      <th>4</th>\n",
       "      <td>xxbos xxmaj xxunk xxmaj blue xxmaj xxunk xxmaj bird xxmaj xxunk - xxmaj gardening xxmaj gifts - xxmaj xxunk xxmaj gifts - xxmaj birds - xxmaj apple https : / / xxrep 3 w xxunk / product / xxunk - blue - xxunk - bird - xxunk - gardening - gifts - xxunk - gifts - birds - apple - xxunk - scotland - xxunk - nature - garden / … # xxunk # xxunk # xxunk # xxunk # birds # xxunk # gifts # xxunk # xxunk # xxmaj apple # green # xxup blue # xxmaj xxunk # xxunk</td>\n",
       "      <td>0</td>\n",
       "    </tr>\n",
       "  </tbody>\n",
       "</table>"
      ],
      "text/plain": [
       "<IPython.core.display.HTML object>"
      ]
     },
     "metadata": {},
     "output_type": "display_data"
    }
   ],
   "source": [
    "## Checking if everything is working fine\n",
    "dls_clas.show_batch(max_n=5)"
   ]
  },
  {
   "cell_type": "code",
   "execution_count": 15,
   "metadata": {
    "ExecuteTime": {
     "end_time": "2021-01-08T23:50:39.352504Z",
     "start_time": "2021-01-08T23:50:39.068854Z"
    }
   },
   "outputs": [],
   "source": [
    "## Defining our text classifier\n",
    "learn = text_classifier_learner(dls_clas , AWD_LSTM, drop_mult=1, metrics=accuracy)\n",
    "learn.path = path"
   ]
  },
  {
   "cell_type": "code",
   "execution_count": 16,
   "metadata": {
    "ExecuteTime": {
     "end_time": "2021-01-08T23:50:39.538004Z",
     "start_time": "2021-01-08T23:50:39.354198Z"
    }
   },
   "outputs": [],
   "source": [
    "## Loading Language model encoder weights trained in previous section\n",
    "learn = learn.load_encoder(file='finetuned')"
   ]
  },
  {
   "cell_type": "code",
   "execution_count": 17,
   "metadata": {
    "ExecuteTime": {
     "end_time": "2021-01-08T23:50:51.642607Z",
     "start_time": "2021-01-08T23:50:41.384738Z"
    }
   },
   "outputs": [
    {
     "data": {
      "text/html": [
       "<table border=\"1\" class=\"dataframe\">\n",
       "  <thead>\n",
       "    <tr style=\"text-align: left;\">\n",
       "      <th>epoch</th>\n",
       "      <th>train_loss</th>\n",
       "      <th>valid_loss</th>\n",
       "      <th>accuracy</th>\n",
       "      <th>time</th>\n",
       "    </tr>\n",
       "  </thead>\n",
       "  <tbody>\n",
       "    <tr>\n",
       "      <td>0</td>\n",
       "      <td>0.653715</td>\n",
       "      <td>0.242876</td>\n",
       "      <td>0.898359</td>\n",
       "      <td>00:10</td>\n",
       "    </tr>\n",
       "  </tbody>\n",
       "</table>"
      ],
      "text/plain": [
       "<IPython.core.display.HTML object>"
      ]
     },
     "metadata": {},
     "output_type": "display_data"
    }
   ],
   "source": [
    "## Finetuning last layer\n",
    "learn.fit_one_cycle(1, 2e-2)"
   ]
  },
  {
   "cell_type": "code",
   "execution_count": 18,
   "metadata": {
    "ExecuteTime": {
     "end_time": "2021-01-08T23:51:03.947806Z",
     "start_time": "2021-01-08T23:50:51.645192Z"
    }
   },
   "outputs": [
    {
     "data": {
      "text/html": [
       "<table border=\"1\" class=\"dataframe\">\n",
       "  <thead>\n",
       "    <tr style=\"text-align: left;\">\n",
       "      <th>epoch</th>\n",
       "      <th>train_loss</th>\n",
       "      <th>valid_loss</th>\n",
       "      <th>accuracy</th>\n",
       "      <th>time</th>\n",
       "    </tr>\n",
       "  </thead>\n",
       "  <tbody>\n",
       "    <tr>\n",
       "      <td>0</td>\n",
       "      <td>0.531201</td>\n",
       "      <td>0.229384</td>\n",
       "      <td>0.904040</td>\n",
       "      <td>00:12</td>\n",
       "    </tr>\n",
       "  </tbody>\n",
       "</table>"
      ],
      "text/plain": [
       "<IPython.core.display.HTML object>"
      ]
     },
     "metadata": {},
     "output_type": "display_data"
    }
   ],
   "source": [
    "## Finetuning last 2 layers and progressive learning rate\n",
    "learn.freeze_to(-2)\n",
    "learn.fit_one_cycle(1, slice(1e-2/(2.6**4),1e-2))"
   ]
  },
  {
   "cell_type": "code",
   "execution_count": 19,
   "metadata": {
    "ExecuteTime": {
     "end_time": "2021-01-08T23:51:18.273388Z",
     "start_time": "2021-01-08T23:51:03.950266Z"
    }
   },
   "outputs": [
    {
     "data": {
      "text/html": [
       "<table border=\"1\" class=\"dataframe\">\n",
       "  <thead>\n",
       "    <tr style=\"text-align: left;\">\n",
       "      <th>epoch</th>\n",
       "      <th>train_loss</th>\n",
       "      <th>valid_loss</th>\n",
       "      <th>accuracy</th>\n",
       "      <th>time</th>\n",
       "    </tr>\n",
       "  </thead>\n",
       "  <tbody>\n",
       "    <tr>\n",
       "      <td>0</td>\n",
       "      <td>0.428972</td>\n",
       "      <td>0.229589</td>\n",
       "      <td>0.898990</td>\n",
       "      <td>00:14</td>\n",
       "    </tr>\n",
       "  </tbody>\n",
       "</table>"
      ],
      "text/plain": [
       "<IPython.core.display.HTML object>"
      ]
     },
     "metadata": {},
     "output_type": "display_data"
    }
   ],
   "source": [
    "## Finetuning last 3 layers and progressive learning rate\n",
    "learn.freeze_to(-3)\n",
    "learn.fit_one_cycle(1, slice(5e-3/(2.6**4),5e-3))"
   ]
  },
  {
   "cell_type": "code",
   "execution_count": 20,
   "metadata": {
    "ExecuteTime": {
     "end_time": "2021-01-08T23:52:41.332225Z",
     "start_time": "2021-01-08T23:51:18.275525Z"
    }
   },
   "outputs": [
    {
     "data": {
      "text/html": [
       "<table border=\"1\" class=\"dataframe\">\n",
       "  <thead>\n",
       "    <tr style=\"text-align: left;\">\n",
       "      <th>epoch</th>\n",
       "      <th>train_loss</th>\n",
       "      <th>valid_loss</th>\n",
       "      <th>accuracy</th>\n",
       "      <th>time</th>\n",
       "    </tr>\n",
       "  </thead>\n",
       "  <tbody>\n",
       "    <tr>\n",
       "      <td>0</td>\n",
       "      <td>0.410783</td>\n",
       "      <td>0.222436</td>\n",
       "      <td>0.907197</td>\n",
       "      <td>00:16</td>\n",
       "    </tr>\n",
       "    <tr>\n",
       "      <td>1</td>\n",
       "      <td>0.392694</td>\n",
       "      <td>0.220471</td>\n",
       "      <td>0.904040</td>\n",
       "      <td>00:16</td>\n",
       "    </tr>\n",
       "    <tr>\n",
       "      <td>2</td>\n",
       "      <td>0.383803</td>\n",
       "      <td>0.223444</td>\n",
       "      <td>0.905934</td>\n",
       "      <td>00:16</td>\n",
       "    </tr>\n",
       "    <tr>\n",
       "      <td>3</td>\n",
       "      <td>0.389135</td>\n",
       "      <td>0.234163</td>\n",
       "      <td>0.901515</td>\n",
       "      <td>00:16</td>\n",
       "    </tr>\n",
       "    <tr>\n",
       "      <td>4</td>\n",
       "      <td>0.370273</td>\n",
       "      <td>0.221122</td>\n",
       "      <td>0.905934</td>\n",
       "      <td>00:16</td>\n",
       "    </tr>\n",
       "  </tbody>\n",
       "</table>"
      ],
      "text/plain": [
       "<IPython.core.display.HTML object>"
      ]
     },
     "metadata": {},
     "output_type": "display_data"
    }
   ],
   "source": [
    "## Training entire model\n",
    "learn.unfreeze()\n",
    "learn.fit_one_cycle(5, slice(1e-3/(2.6**4),1e-3))"
   ]
  },
  {
   "cell_type": "code",
   "execution_count": 21,
   "metadata": {
    "ExecuteTime": {
     "end_time": "2021-01-08T23:52:42.083858Z",
     "start_time": "2021-01-08T23:52:41.334273Z"
    }
   },
   "outputs": [
    {
     "data": {
      "text/plain": [
       "Path('../data/identify_the_sentiments/models/classifier.pth')"
      ]
     },
     "execution_count": 21,
     "metadata": {},
     "output_type": "execute_result"
    }
   ],
   "source": [
    "## Save model weights\n",
    "learn.save('classifier')"
   ]
  },
  {
   "cell_type": "markdown",
   "metadata": {},
   "source": [
    "## Making predictions"
   ]
  },
  {
   "cell_type": "code",
   "execution_count": 22,
   "metadata": {
    "ExecuteTime": {
     "end_time": "2021-01-08T23:52:45.763691Z",
     "start_time": "2021-01-08T23:52:42.085492Z"
    }
   },
   "outputs": [
    {
     "data": {
      "text/html": [],
      "text/plain": [
       "<IPython.core.display.HTML object>"
      ]
     },
     "metadata": {},
     "output_type": "display_data"
    }
   ],
   "source": [
    "## Getting testing data and doing predictions\n",
    "test_dl = learn.dls.test_dl(test_df)\n",
    "preds, _ = learn.get_preds(dl=test_dl)"
   ]
  },
  {
   "cell_type": "code",
   "execution_count": 23,
   "metadata": {
    "ExecuteTime": {
     "end_time": "2021-01-08T23:52:45.774838Z",
     "start_time": "2021-01-08T23:52:45.765596Z"
    }
   },
   "outputs": [],
   "source": [
    "## Creating submission file\n",
    "submission = pd.DataFrame({'id':test_df.iloc[test_dl.get_idxs(),0].values})\n",
    "submission['label'] = preds.argmax(axis=1)"
   ]
  },
  {
   "cell_type": "markdown",
   "metadata": {},
   "source": [
    "Note above we have to get indexes for our DL for test set. This is because the data loader shuffles the dataset in FastAI and we need to find the predictions we get our for which row in training set."
   ]
  },
  {
   "cell_type": "code",
   "execution_count": 24,
   "metadata": {
    "ExecuteTime": {
     "end_time": "2021-01-08T23:52:45.796472Z",
     "start_time": "2021-01-08T23:52:45.777133Z"
    }
   },
   "outputs": [],
   "source": [
    "## Exporting predictions\n",
    "submission.to_csv(\"./submission/submission_ulmfit.csv\", index=False)"
   ]
  }
 ],
 "metadata": {
  "kernelspec": {
   "display_name": "Python 3",
   "language": "python",
   "name": "python3"
  },
  "toc": {
   "base_numbering": 1,
   "nav_menu": {},
   "number_sections": true,
   "sideBar": true,
   "skip_h1_title": false,
   "title_cell": "Table of Contents",
   "title_sidebar": "Contents",
   "toc_cell": false,
   "toc_position": {},
   "toc_section_display": true,
   "toc_window_display": false
  }
 },
 "nbformat": 4,
 "nbformat_minor": 4
}
