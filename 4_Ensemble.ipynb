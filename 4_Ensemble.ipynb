{
 "cells": [
  {
   "cell_type": "markdown",
   "metadata": {},
   "source": [
    "## import Libraries"
   ]
  },
  {
   "cell_type": "code",
   "execution_count": 1,
   "metadata": {
    "ExecuteTime": {
     "end_time": "2021-01-09T00:14:15.694269Z",
     "start_time": "2021-01-09T00:14:15.483806Z"
    }
   },
   "outputs": [],
   "source": [
    "import pandas as pd"
   ]
  },
  {
   "cell_type": "markdown",
   "metadata": {},
   "source": [
    "## Import model outputs"
   ]
  },
  {
   "cell_type": "code",
   "execution_count": 4,
   "metadata": {
    "ExecuteTime": {
     "end_time": "2021-01-09T00:15:06.431732Z",
     "start_time": "2021-01-09T00:15:06.414948Z"
    }
   },
   "outputs": [],
   "source": [
    "model1 = pd.read_csv(\"./submission/submission_blurr_bert_uncased_prob.csv\").rename(columns={'label':'prob1'})\n",
    "model2 = pd.read_csv(\"./submission/submission_blurr_bert_roberta_base_prob.csv\").rename(columns={'label':'prob2'})"
   ]
  },
  {
   "cell_type": "code",
   "execution_count": 5,
   "metadata": {
    "ExecuteTime": {
     "end_time": "2021-01-09T00:15:07.885596Z",
     "start_time": "2021-01-09T00:15:07.877399Z"
    }
   },
   "outputs": [],
   "source": [
    "combined = model1.merge(model2)"
   ]
  },
  {
   "cell_type": "code",
   "execution_count": 6,
   "metadata": {
    "ExecuteTime": {
     "end_time": "2021-01-09T00:15:10.859562Z",
     "start_time": "2021-01-09T00:15:10.853853Z"
    }
   },
   "outputs": [],
   "source": [
    "combined['prob'] = combined.iloc[:,1:].mean(axis=1)"
   ]
  },
  {
   "cell_type": "code",
   "execution_count": 7,
   "metadata": {
    "ExecuteTime": {
     "end_time": "2021-01-09T00:15:12.400607Z",
     "start_time": "2021-01-09T00:15:12.393155Z"
    }
   },
   "outputs": [],
   "source": [
    "combined['label'] = (combined.prob >= 0.5).astype(int)"
   ]
  },
  {
   "cell_type": "code",
   "execution_count": 8,
   "metadata": {
    "ExecuteTime": {
     "end_time": "2021-01-09T00:15:25.236718Z",
     "start_time": "2021-01-09T00:15:25.217891Z"
    }
   },
   "outputs": [],
   "source": [
    "combined.loc[:,['id','label']].to_csv('./submission/ensemble_bert_robert.csv', index=False)"
   ]
  }
 ],
 "metadata": {
  "kernelspec": {
   "display_name": "Python 3",
   "language": "python",
   "name": "python3"
  },
  "toc": {
   "base_numbering": 1,
   "nav_menu": {},
   "number_sections": true,
   "sideBar": true,
   "skip_h1_title": false,
   "title_cell": "Table of Contents",
   "title_sidebar": "Contents",
   "toc_cell": false,
   "toc_position": {},
   "toc_section_display": true,
   "toc_window_display": false
  }
 },
 "nbformat": 4,
 "nbformat_minor": 4
}
