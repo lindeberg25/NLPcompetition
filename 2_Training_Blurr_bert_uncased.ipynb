{
 "cells": [
  {
   "cell_type": "markdown",
   "metadata": {
    "heading_collapsed": true
   },
   "source": [
    "## Importing Libraries"
   ]
  },
  {
   "cell_type": "code",
   "execution_count": 1,
   "metadata": {
    "ExecuteTime": {
     "end_time": "2021-01-08T23:57:05.753285Z",
     "start_time": "2021-01-08T23:57:02.873907Z"
    },
    "hidden": true
   },
   "outputs": [
    {
     "name": "stderr",
     "output_type": "stream",
     "text": [
      "[nltk_data] Downloading package wordnet to /home/aaagraw/nltk_data...\n",
      "[nltk_data]   Package wordnet is already up-to-date!\n"
     ]
    }
   ],
   "source": [
    "import torch\n",
    "from transformers import *\n",
    "from fastai.text.all import *\n",
    "\n",
    "from blurr.data.all import *\n",
    "from blurr.modeling.all import *\n",
    "import unidecode\n",
    "import wordninja"
   ]
  },
  {
   "cell_type": "markdown",
   "metadata": {
    "heading_collapsed": true
   },
   "source": [
    "## Importing Data"
   ]
  },
  {
   "cell_type": "code",
   "execution_count": 2,
   "metadata": {
    "ExecuteTime": {
     "end_time": "2021-01-08T23:57:05.791342Z",
     "start_time": "2021-01-08T23:57:05.755129Z"
    },
    "hidden": true
   },
   "outputs": [],
   "source": [
    "path = Path(\"../data/identify_the_sentiments/\")\n",
    "\n",
    "train_df = pd.read_csv(path/'train_2kmZucJ.csv')\n",
    "train_df = train_df.rename(columns={'tweet':'text'})\n",
    "test_df = pd.read_csv(path/'test_oJQbWVk.csv')\n",
    "test_df = test_df.rename(columns={'tweet':'text'})"
   ]
  },
  {
   "cell_type": "markdown",
   "metadata": {
    "heading_collapsed": true
   },
   "source": [
    "## Pre-Processing"
   ]
  },
  {
   "cell_type": "code",
   "execution_count": 3,
   "metadata": {
    "ExecuteTime": {
     "end_time": "2021-01-08T23:57:06.793910Z",
     "start_time": "2021-01-08T23:57:06.788456Z"
    },
    "hidden": true
   },
   "outputs": [],
   "source": [
    "def clean_tweet(text):\n",
    "    \n",
    "    # lower-case all characters\n",
    "    text=text.lower()\n",
    "    \n",
    "    # remove twitter handles\n",
    "    text= re.sub(r'@\\S+', '',text) \n",
    "    \n",
    "    # remove urls\n",
    "    text= re.sub(r'http\\S+', '',text) \n",
    "    text= re.sub(r'pic.\\S+', '',text)\n",
    "      \n",
    "    # replace unidecode characters\n",
    "    text=unidecode.unidecode(text)\n",
    "      \n",
    "    # regex only keeps characters\n",
    "    text= re.sub(r\"[^a-zA-Z+']\", ' ',text)\n",
    "    \n",
    "    # keep words with length>1 only\n",
    "    text=re.sub(r'\\s+[a-zA-Z]\\s+', ' ', text+' ') \n",
    "\n",
    "    # split words like 'whatisthis' to 'what is this'\n",
    "    def preprocess_wordninja(sentence):      \n",
    "        def split_words(x):\n",
    "            x=wordninja.split(x)\n",
    "            x= [word for word in x if len(word)>1]\n",
    "            return x\n",
    "        new_sentence=[ ' '.join(split_words(word)) for word in sentence.split() ]\n",
    "        return ' '.join(new_sentence)\n",
    "    \n",
    "    text=preprocess_wordninja(text)\n",
    "    \n",
    "    # regex removes repeated spaces, strip removes leading and trailing spaces\n",
    "    text= re.sub(\"\\s[\\s]+\", \" \",text).strip()  \n",
    "    \n",
    "    return text"
   ]
  },
  {
   "cell_type": "code",
   "execution_count": 4,
   "metadata": {
    "ExecuteTime": {
     "end_time": "2021-01-08T23:57:10.807901Z",
     "start_time": "2021-01-08T23:57:07.940217Z"
    },
    "hidden": true
   },
   "outputs": [],
   "source": [
    "## Preprocessing Text\n",
    "train_df['text']=train_df['text'].apply(lambda x: clean_tweet(x))\n",
    "test_df['text']=test_df['text'].apply(lambda x: clean_tweet(x))"
   ]
  },
  {
   "cell_type": "code",
   "execution_count": 5,
   "metadata": {
    "ExecuteTime": {
     "end_time": "2021-01-08T23:57:10.819980Z",
     "start_time": "2021-01-08T23:57:10.810445Z"
    },
    "hidden": true
   },
   "outputs": [
    {
     "data": {
      "text/html": [
       "<div>\n",
       "<style scoped>\n",
       "    .dataframe tbody tr th:only-of-type {\n",
       "        vertical-align: middle;\n",
       "    }\n",
       "\n",
       "    .dataframe tbody tr th {\n",
       "        vertical-align: top;\n",
       "    }\n",
       "\n",
       "    .dataframe thead th {\n",
       "        text-align: right;\n",
       "    }\n",
       "</style>\n",
       "<table border=\"1\" class=\"dataframe\">\n",
       "  <thead>\n",
       "    <tr style=\"text-align: right;\">\n",
       "      <th></th>\n",
       "      <th>id</th>\n",
       "      <th>label</th>\n",
       "      <th>text</th>\n",
       "    </tr>\n",
       "  </thead>\n",
       "  <tbody>\n",
       "    <tr>\n",
       "      <th>0</th>\n",
       "      <td>1</td>\n",
       "      <td>0</td>\n",
       "      <td>fingerprint pregnancy test android apps beautiful cute health iger iphone only iphones iphone</td>\n",
       "    </tr>\n",
       "    <tr>\n",
       "      <th>1</th>\n",
       "      <td>2</td>\n",
       "      <td>0</td>\n",
       "      <td>finally trans paran silicon case thanks to my uncle yay sony peri sony ex peri as</td>\n",
       "    </tr>\n",
       "    <tr>\n",
       "      <th>2</th>\n",
       "      <td>3</td>\n",
       "      <td>0</td>\n",
       "      <td>we love this would you go talk make memories unplug relax iphone smartphone wi fi connect</td>\n",
       "    </tr>\n",
       "    <tr>\n",
       "      <th>3</th>\n",
       "      <td>4</td>\n",
       "      <td>0</td>\n",
       "      <td>i'm wired know i'm george was made that way iphone cute daventry home</td>\n",
       "    </tr>\n",
       "    <tr>\n",
       "      <th>4</th>\n",
       "      <td>5</td>\n",
       "      <td>1</td>\n",
       "      <td>what amazing service apple won't even talk to me about question have unless pay them for their stupid support</td>\n",
       "    </tr>\n",
       "  </tbody>\n",
       "</table>\n",
       "</div>"
      ],
      "text/plain": [
       "   id  label  \\\n",
       "0   1      0   \n",
       "1   2      0   \n",
       "2   3      0   \n",
       "3   4      0   \n",
       "4   5      1   \n",
       "\n",
       "                                                                                                            text  \n",
       "0                  fingerprint pregnancy test android apps beautiful cute health iger iphone only iphones iphone  \n",
       "1                              finally trans paran silicon case thanks to my uncle yay sony peri sony ex peri as  \n",
       "2                      we love this would you go talk make memories unplug relax iphone smartphone wi fi connect  \n",
       "3                                          i'm wired know i'm george was made that way iphone cute daventry home  \n",
       "4  what amazing service apple won't even talk to me about question have unless pay them for their stupid support  "
      ]
     },
     "execution_count": 5,
     "metadata": {},
     "output_type": "execute_result"
    }
   ],
   "source": [
    "train_df.head()"
   ]
  },
  {
   "cell_type": "code",
   "execution_count": 6,
   "metadata": {
    "ExecuteTime": {
     "end_time": "2021-01-08T23:57:10.830902Z",
     "start_time": "2021-01-08T23:57:10.821842Z"
    },
    "hidden": true
   },
   "outputs": [
    {
     "data": {
      "text/html": [
       "<div>\n",
       "<style scoped>\n",
       "    .dataframe tbody tr th:only-of-type {\n",
       "        vertical-align: middle;\n",
       "    }\n",
       "\n",
       "    .dataframe tbody tr th {\n",
       "        vertical-align: top;\n",
       "    }\n",
       "\n",
       "    .dataframe thead th {\n",
       "        text-align: right;\n",
       "    }\n",
       "</style>\n",
       "<table border=\"1\" class=\"dataframe\">\n",
       "  <thead>\n",
       "    <tr style=\"text-align: right;\">\n",
       "      <th></th>\n",
       "      <th>id</th>\n",
       "      <th>text</th>\n",
       "    </tr>\n",
       "  </thead>\n",
       "  <tbody>\n",
       "    <tr>\n",
       "      <th>0</th>\n",
       "      <td>7921</td>\n",
       "      <td>hate the new iphone upgrade won't let me download apps ugh apple sucks</td>\n",
       "    </tr>\n",
       "    <tr>\n",
       "      <th>1</th>\n",
       "      <td>7922</td>\n",
       "      <td>currently shitting my fucking pants apple imac cash money rad de st swags wags wag</td>\n",
       "    </tr>\n",
       "    <tr>\n",
       "      <th>2</th>\n",
       "      <td>7923</td>\n",
       "      <td>i'd like to puts some cd roms on my ipad is that possible yes but wouldn't that block the screen</td>\n",
       "    </tr>\n",
       "    <tr>\n",
       "      <th>3</th>\n",
       "      <td>7924</td>\n",
       "      <td>my ipod is officially dead lost all my and videos from the and sos concert and from vet camp hating life sobbing</td>\n",
       "    </tr>\n",
       "    <tr>\n",
       "      <th>4</th>\n",
       "      <td>7925</td>\n",
       "      <td>been fighting itunes all night only want the music paid for</td>\n",
       "    </tr>\n",
       "  </tbody>\n",
       "</table>\n",
       "</div>"
      ],
      "text/plain": [
       "     id  \\\n",
       "0  7921   \n",
       "1  7922   \n",
       "2  7923   \n",
       "3  7924   \n",
       "4  7925   \n",
       "\n",
       "                                                                                                               text  \n",
       "0                                            hate the new iphone upgrade won't let me download apps ugh apple sucks  \n",
       "1                                currently shitting my fucking pants apple imac cash money rad de st swags wags wag  \n",
       "2                  i'd like to puts some cd roms on my ipad is that possible yes but wouldn't that block the screen  \n",
       "3  my ipod is officially dead lost all my and videos from the and sos concert and from vet camp hating life sobbing  \n",
       "4                                                       been fighting itunes all night only want the music paid for  "
      ]
     },
     "execution_count": 6,
     "metadata": {},
     "output_type": "execute_result"
    }
   ],
   "source": [
    "test_df.head()"
   ]
  },
  {
   "cell_type": "markdown",
   "metadata": {},
   "source": [
    "## Training a  Model"
   ]
  },
  {
   "cell_type": "code",
   "execution_count": 7,
   "metadata": {
    "ExecuteTime": {
     "end_time": "2021-01-08T23:57:22.376499Z",
     "start_time": "2021-01-08T23:57:18.731978Z"
    }
   },
   "outputs": [],
   "source": [
    "## We are doing sequence classification (Blurr functionality)\n",
    "task = HF_TASKS_AUTO.SequenceClassification\n",
    "\n",
    "## Define your model (many hugging face models can be selected from here)\n",
    "pretrained_model_name = \"bert-base-uncased\"\n",
    "\n",
    "## Blurr makes it easy to get configs related to model specified above (so convienient!)\n",
    "hf_arch, hf_config, hf_tokenizer, hf_model = BLURR_MODEL_HELPER.get_hf_objects(pretrained_model_name,  task=task)"
   ]
  },
  {
   "cell_type": "code",
   "execution_count": 8,
   "metadata": {
    "ExecuteTime": {
     "end_time": "2021-01-08T23:59:15.251553Z",
     "start_time": "2021-01-08T23:59:09.260646Z"
    }
   },
   "outputs": [],
   "source": [
    "## Create DataLoader using Blurr and FastAI Data loaders\n",
    "blocks = (HF_TextBlock(hf_arch, hf_config, hf_tokenizer, hf_model), CategoryBlock)\n",
    "dblock = DataBlock(\n",
    "    blocks=blocks,  \n",
    "    get_x=ColReader('text'), \n",
    "    get_y=ColReader('label'), \n",
    "    splitter=RandomSplitter(0.2, seed=42))\n",
    "dls = dblock.dataloaders(train_df, bs=64)"
   ]
  },
  {
   "cell_type": "code",
   "execution_count": 9,
   "metadata": {
    "ExecuteTime": {
     "end_time": "2021-01-08T23:59:15.302553Z",
     "start_time": "2021-01-08T23:59:15.253579Z"
    }
   },
   "outputs": [
    {
     "data": {
      "text/html": [
       "<table border=\"1\" class=\"dataframe\">\n",
       "  <thead>\n",
       "    <tr style=\"text-align: right;\">\n",
       "      <th></th>\n",
       "      <th>text</th>\n",
       "      <th>category</th>\n",
       "    </tr>\n",
       "  </thead>\n",
       "  <tbody>\n",
       "    <tr>\n",
       "      <th>0</th>\n",
       "      <td>orange mood today mood my mood orange bell ross bell and ross alligator skin alligator crocodile alligators trap samsung nike nike jordan air jordan ralph lauren polo polo ralph lauren london grad watch crocodiles trap london grad bell ross watches bell ross watch</td>\n",
       "      <td>0</td>\n",
       "    </tr>\n",
       "    <tr>\n",
       "      <th>1</th>\n",
       "      <td>not sure what he was after but he was digging hole dogs pet do glover love my dog adorable animal photo of the day insta good dogs insta puppy dogs of insta gram doggy animals pets agram black and white insta gram dogs pets of insta gram canine dog life iphone</td>\n",
       "      <td>0</td>\n",
       "    </tr>\n",
       "  </tbody>\n",
       "</table>"
      ],
      "text/plain": [
       "<IPython.core.display.HTML object>"
      ]
     },
     "metadata": {},
     "output_type": "display_data"
    }
   ],
   "source": [
    "## Checking things are working fine\n",
    "dls.show_batch(dataloaders=dls, max_n=2)"
   ]
  },
  {
   "cell_type": "code",
   "execution_count": 10,
   "metadata": {
    "ExecuteTime": {
     "end_time": "2021-01-08T23:59:40.179659Z",
     "start_time": "2021-01-08T23:59:39.953507Z"
    }
   },
   "outputs": [],
   "source": [
    "## Define model \n",
    "model = HF_BaseModelWrapper(hf_model)\n",
    "learn = Learner(dls, \n",
    "                model,\n",
    "                opt_func=partial(Adam, decouple_wd=True),\n",
    "                loss_func=CrossEntropyLossFlat(),\n",
    "                metrics=[accuracy],\n",
    "                cbs=[HF_BaseModelCallback],\n",
    "                splitter=hf_splitter)\n",
    "\n",
    "learn.create_opt() "
   ]
  },
  {
   "cell_type": "code",
   "execution_count": 11,
   "metadata": {
    "ExecuteTime": {
     "end_time": "2021-01-09T00:01:44.307274Z",
     "start_time": "2021-01-09T00:00:02.396494Z"
    }
   },
   "outputs": [
    {
     "data": {
      "text/html": [
       "<table border=\"1\" class=\"dataframe\">\n",
       "  <thead>\n",
       "    <tr style=\"text-align: left;\">\n",
       "      <th>epoch</th>\n",
       "      <th>train_loss</th>\n",
       "      <th>valid_loss</th>\n",
       "      <th>accuracy</th>\n",
       "      <th>time</th>\n",
       "    </tr>\n",
       "  </thead>\n",
       "  <tbody>\n",
       "    <tr>\n",
       "      <td>0</td>\n",
       "      <td>0.466401</td>\n",
       "      <td>0.302765</td>\n",
       "      <td>0.863636</td>\n",
       "      <td>00:20</td>\n",
       "    </tr>\n",
       "    <tr>\n",
       "      <td>1</td>\n",
       "      <td>0.294039</td>\n",
       "      <td>0.209141</td>\n",
       "      <td>0.912247</td>\n",
       "      <td>00:20</td>\n",
       "    </tr>\n",
       "    <tr>\n",
       "      <td>2</td>\n",
       "      <td>0.239846</td>\n",
       "      <td>0.211146</td>\n",
       "      <td>0.915404</td>\n",
       "      <td>00:20</td>\n",
       "    </tr>\n",
       "    <tr>\n",
       "      <td>3</td>\n",
       "      <td>0.225147</td>\n",
       "      <td>0.199774</td>\n",
       "      <td>0.914773</td>\n",
       "      <td>00:20</td>\n",
       "    </tr>\n",
       "    <tr>\n",
       "      <td>4</td>\n",
       "      <td>0.217560</td>\n",
       "      <td>0.199265</td>\n",
       "      <td>0.915404</td>\n",
       "      <td>00:20</td>\n",
       "    </tr>\n",
       "  </tbody>\n",
       "</table>"
      ],
      "text/plain": [
       "<IPython.core.display.HTML object>"
      ]
     },
     "metadata": {},
     "output_type": "display_data"
    }
   ],
   "source": [
    "## Only training last layer so freeze everything else\n",
    "learn.freeze()\n",
    "\n",
    "## Train for 5 epochs\n",
    "learn.fit_one_cycle(5, lr_max=1e-3)"
   ]
  },
  {
   "cell_type": "markdown",
   "metadata": {},
   "source": [
    "## Making Predictions"
   ]
  },
  {
   "cell_type": "code",
   "execution_count": 12,
   "metadata": {
    "ExecuteTime": {
     "end_time": "2021-01-09T00:03:28.176154Z",
     "start_time": "2021-01-09T00:03:25.181826Z"
    }
   },
   "outputs": [
    {
     "data": {
      "text/html": [],
      "text/plain": [
       "<IPython.core.display.HTML object>"
      ]
     },
     "metadata": {},
     "output_type": "display_data"
    }
   ],
   "source": [
    "test_dl = learn.dls.test_dl(test_df)\n",
    "preds, _ = learn.get_preds(dl=test_dl, reorder=False)"
   ]
  },
  {
   "cell_type": "code",
   "execution_count": 13,
   "metadata": {
    "ExecuteTime": {
     "end_time": "2021-01-09T00:03:28.186391Z",
     "start_time": "2021-01-09T00:03:28.178120Z"
    }
   },
   "outputs": [],
   "source": [
    "submission = pd.DataFrame({'id':test_df.iloc[test_dl.get_idxs(),0].values})\n",
    "submission['label'] = preds.argmax(axis=1)"
   ]
  },
  {
   "cell_type": "code",
   "execution_count": 14,
   "metadata": {
    "ExecuteTime": {
     "end_time": "2021-01-09T00:03:29.583027Z",
     "start_time": "2021-01-09T00:03:29.560471Z"
    }
   },
   "outputs": [],
   "source": [
    "submission.to_csv(\"./submission/submission_blurr_bert_uncased.csv\", index=False)"
   ]
  },
  {
   "cell_type": "code",
   "execution_count": 15,
   "metadata": {
    "ExecuteTime": {
     "end_time": "2021-01-09T00:03:31.646855Z",
     "start_time": "2021-01-09T00:03:31.624284Z"
    }
   },
   "outputs": [],
   "source": [
    "## Get Probabilities\n",
    "submission['label']  = preds[:,1]\n",
    "submission.to_csv(\"./submission/submission_blurr_bert_uncased_prob.csv\", index=False)"
   ]
  }
 ],
 "metadata": {
  "kernelspec": {
   "display_name": "Python 3",
   "language": "python",
   "name": "python3"
  },
  "language_info": {
   "codemirror_mode": {
    "name": "ipython",
    "version": 3
   },
   "file_extension": ".py",
   "mimetype": "text/x-python",
   "name": "python",
   "nbconvert_exporter": "python",
   "pygments_lexer": "ipython3",
   "version": "3.8.5"
  },
  "toc": {
   "base_numbering": 1,
   "nav_menu": {},
   "number_sections": true,
   "sideBar": true,
   "skip_h1_title": false,
   "title_cell": "Table of Contents",
   "title_sidebar": "Contents",
   "toc_cell": false,
   "toc_position": {},
   "toc_section_display": true,
   "toc_window_display": true
  }
 },
 "nbformat": 4,
 "nbformat_minor": 4
}
