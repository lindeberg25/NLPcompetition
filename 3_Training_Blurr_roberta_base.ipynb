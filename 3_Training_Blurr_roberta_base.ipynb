{
 "cells": [
  {
   "cell_type": "markdown",
   "metadata": {
    "heading_collapsed": true
   },
   "source": [
    "## Importing Libraries"
   ]
  },
  {
   "cell_type": "code",
   "execution_count": 1,
   "metadata": {
    "ExecuteTime": {
     "end_time": "2021-01-09T00:07:19.327288Z",
     "start_time": "2021-01-09T00:07:16.467284Z"
    },
    "hidden": true
   },
   "outputs": [
    {
     "name": "stderr",
     "output_type": "stream",
     "text": [
      "[nltk_data] Downloading package wordnet to /home/aaagraw/nltk_data...\n",
      "[nltk_data]   Package wordnet is already up-to-date!\n"
     ]
    }
   ],
   "source": [
    "import torch\n",
    "from transformers import *\n",
    "from fastai.text.all import *\n",
    "\n",
    "from blurr.data.all import *\n",
    "from blurr.modeling.all import *\n",
    "import unidecode\n",
    "import wordninja"
   ]
  },
  {
   "cell_type": "markdown",
   "metadata": {
    "heading_collapsed": true
   },
   "source": [
    "## Importing Data"
   ]
  },
  {
   "cell_type": "code",
   "execution_count": 2,
   "metadata": {
    "ExecuteTime": {
     "end_time": "2021-01-09T00:07:22.324389Z",
     "start_time": "2021-01-09T00:07:22.272717Z"
    },
    "hidden": true
   },
   "outputs": [],
   "source": [
    "path = Path(\"../data/identify_the_sentiments/\")\n",
    "\n",
    "train_df = pd.read_csv(path/'train_2kmZucJ.csv')\n",
    "train_df = train_df.rename(columns={'tweet':'text'})\n",
    "test_df = pd.read_csv(path/'test_oJQbWVk.csv')\n",
    "test_df = test_df.rename(columns={'tweet':'text'})"
   ]
  },
  {
   "cell_type": "markdown",
   "metadata": {
    "heading_collapsed": true
   },
   "source": [
    "## Pre-Processing"
   ]
  },
  {
   "cell_type": "code",
   "execution_count": 3,
   "metadata": {
    "ExecuteTime": {
     "end_time": "2021-01-09T00:07:24.285980Z",
     "start_time": "2021-01-09T00:07:24.281062Z"
    },
    "hidden": true
   },
   "outputs": [],
   "source": [
    "def clean_tweet(text):\n",
    "    \n",
    "    # lower-case all characters\n",
    "    text=text.lower()\n",
    "    \n",
    "    # remove twitter handles\n",
    "    text= re.sub(r'@\\S+', '',text) \n",
    "    \n",
    "    # remove urls\n",
    "    text= re.sub(r'http\\S+', '',text) \n",
    "    text= re.sub(r'pic.\\S+', '',text)\n",
    "      \n",
    "    # replace unidecode characters\n",
    "    text=unidecode.unidecode(text)\n",
    "      \n",
    "    # regex only keeps characters\n",
    "    text= re.sub(r\"[^a-zA-Z+']\", ' ',text)\n",
    "    \n",
    "    # keep words with length>1 only\n",
    "    text=re.sub(r'\\s+[a-zA-Z]\\s+', ' ', text+' ') \n",
    "\n",
    "    # split words like 'whatisthis' to 'what is this'\n",
    "    def preprocess_wordninja(sentence):      \n",
    "        def split_words(x):\n",
    "            x=wordninja.split(x)\n",
    "            x= [word for word in x if len(word)>1]\n",
    "            return x\n",
    "        new_sentence=[ ' '.join(split_words(word)) for word in sentence.split() ]\n",
    "        return ' '.join(new_sentence)\n",
    "    \n",
    "    text=preprocess_wordninja(text)\n",
    "    \n",
    "    # regex removes repeated spaces, strip removes leading and trailing spaces\n",
    "    text= re.sub(\"\\s[\\s]+\", \" \",text).strip()  \n",
    "    \n",
    "    return text"
   ]
  },
  {
   "cell_type": "code",
   "execution_count": 4,
   "metadata": {
    "ExecuteTime": {
     "end_time": "2021-01-09T00:07:28.441923Z",
     "start_time": "2021-01-09T00:07:25.577545Z"
    },
    "hidden": true
   },
   "outputs": [],
   "source": [
    "## Preprocessing Text\n",
    "train_df['text']=train_df['text'].apply(lambda x: clean_tweet(x))\n",
    "test_df['text']=test_df['text'].apply(lambda x: clean_tweet(x))"
   ]
  },
  {
   "cell_type": "code",
   "execution_count": 5,
   "metadata": {
    "ExecuteTime": {
     "end_time": "2021-01-09T00:07:28.454155Z",
     "start_time": "2021-01-09T00:07:28.444080Z"
    },
    "hidden": true
   },
   "outputs": [
    {
     "data": {
      "text/html": [
       "<div>\n",
       "<style scoped>\n",
       "    .dataframe tbody tr th:only-of-type {\n",
       "        vertical-align: middle;\n",
       "    }\n",
       "\n",
       "    .dataframe tbody tr th {\n",
       "        vertical-align: top;\n",
       "    }\n",
       "\n",
       "    .dataframe thead th {\n",
       "        text-align: right;\n",
       "    }\n",
       "</style>\n",
       "<table border=\"1\" class=\"dataframe\">\n",
       "  <thead>\n",
       "    <tr style=\"text-align: right;\">\n",
       "      <th></th>\n",
       "      <th>id</th>\n",
       "      <th>label</th>\n",
       "      <th>text</th>\n",
       "    </tr>\n",
       "  </thead>\n",
       "  <tbody>\n",
       "    <tr>\n",
       "      <th>0</th>\n",
       "      <td>1</td>\n",
       "      <td>0</td>\n",
       "      <td>fingerprint pregnancy test android apps beautiful cute health iger iphone only iphones iphone</td>\n",
       "    </tr>\n",
       "    <tr>\n",
       "      <th>1</th>\n",
       "      <td>2</td>\n",
       "      <td>0</td>\n",
       "      <td>finally trans paran silicon case thanks to my uncle yay sony peri sony ex peri as</td>\n",
       "    </tr>\n",
       "    <tr>\n",
       "      <th>2</th>\n",
       "      <td>3</td>\n",
       "      <td>0</td>\n",
       "      <td>we love this would you go talk make memories unplug relax iphone smartphone wi fi connect</td>\n",
       "    </tr>\n",
       "    <tr>\n",
       "      <th>3</th>\n",
       "      <td>4</td>\n",
       "      <td>0</td>\n",
       "      <td>i'm wired know i'm george was made that way iphone cute daventry home</td>\n",
       "    </tr>\n",
       "    <tr>\n",
       "      <th>4</th>\n",
       "      <td>5</td>\n",
       "      <td>1</td>\n",
       "      <td>what amazing service apple won't even talk to me about question have unless pay them for their stupid support</td>\n",
       "    </tr>\n",
       "  </tbody>\n",
       "</table>\n",
       "</div>"
      ],
      "text/plain": [
       "   id  label  \\\n",
       "0   1      0   \n",
       "1   2      0   \n",
       "2   3      0   \n",
       "3   4      0   \n",
       "4   5      1   \n",
       "\n",
       "                                                                                                            text  \n",
       "0                  fingerprint pregnancy test android apps beautiful cute health iger iphone only iphones iphone  \n",
       "1                              finally trans paran silicon case thanks to my uncle yay sony peri sony ex peri as  \n",
       "2                      we love this would you go talk make memories unplug relax iphone smartphone wi fi connect  \n",
       "3                                          i'm wired know i'm george was made that way iphone cute daventry home  \n",
       "4  what amazing service apple won't even talk to me about question have unless pay them for their stupid support  "
      ]
     },
     "execution_count": 5,
     "metadata": {},
     "output_type": "execute_result"
    }
   ],
   "source": [
    "train_df.head()"
   ]
  },
  {
   "cell_type": "code",
   "execution_count": 6,
   "metadata": {
    "ExecuteTime": {
     "end_time": "2021-01-09T00:07:28.465866Z",
     "start_time": "2021-01-09T00:07:28.456012Z"
    },
    "hidden": true
   },
   "outputs": [
    {
     "data": {
      "text/html": [
       "<div>\n",
       "<style scoped>\n",
       "    .dataframe tbody tr th:only-of-type {\n",
       "        vertical-align: middle;\n",
       "    }\n",
       "\n",
       "    .dataframe tbody tr th {\n",
       "        vertical-align: top;\n",
       "    }\n",
       "\n",
       "    .dataframe thead th {\n",
       "        text-align: right;\n",
       "    }\n",
       "</style>\n",
       "<table border=\"1\" class=\"dataframe\">\n",
       "  <thead>\n",
       "    <tr style=\"text-align: right;\">\n",
       "      <th></th>\n",
       "      <th>id</th>\n",
       "      <th>text</th>\n",
       "    </tr>\n",
       "  </thead>\n",
       "  <tbody>\n",
       "    <tr>\n",
       "      <th>0</th>\n",
       "      <td>7921</td>\n",
       "      <td>hate the new iphone upgrade won't let me download apps ugh apple sucks</td>\n",
       "    </tr>\n",
       "    <tr>\n",
       "      <th>1</th>\n",
       "      <td>7922</td>\n",
       "      <td>currently shitting my fucking pants apple imac cash money rad de st swags wags wag</td>\n",
       "    </tr>\n",
       "    <tr>\n",
       "      <th>2</th>\n",
       "      <td>7923</td>\n",
       "      <td>i'd like to puts some cd roms on my ipad is that possible yes but wouldn't that block the screen</td>\n",
       "    </tr>\n",
       "    <tr>\n",
       "      <th>3</th>\n",
       "      <td>7924</td>\n",
       "      <td>my ipod is officially dead lost all my and videos from the and sos concert and from vet camp hating life sobbing</td>\n",
       "    </tr>\n",
       "    <tr>\n",
       "      <th>4</th>\n",
       "      <td>7925</td>\n",
       "      <td>been fighting itunes all night only want the music paid for</td>\n",
       "    </tr>\n",
       "  </tbody>\n",
       "</table>\n",
       "</div>"
      ],
      "text/plain": [
       "     id  \\\n",
       "0  7921   \n",
       "1  7922   \n",
       "2  7923   \n",
       "3  7924   \n",
       "4  7925   \n",
       "\n",
       "                                                                                                               text  \n",
       "0                                            hate the new iphone upgrade won't let me download apps ugh apple sucks  \n",
       "1                                currently shitting my fucking pants apple imac cash money rad de st swags wags wag  \n",
       "2                  i'd like to puts some cd roms on my ipad is that possible yes but wouldn't that block the screen  \n",
       "3  my ipod is officially dead lost all my and videos from the and sos concert and from vet camp hating life sobbing  \n",
       "4                                                       been fighting itunes all night only want the music paid for  "
      ]
     },
     "execution_count": 6,
     "metadata": {},
     "output_type": "execute_result"
    }
   ],
   "source": [
    "test_df.head()"
   ]
  },
  {
   "cell_type": "markdown",
   "metadata": {},
   "source": [
    "## Training a  Model"
   ]
  },
  {
   "cell_type": "code",
   "execution_count": 7,
   "metadata": {
    "ExecuteTime": {
     "end_time": "2021-01-09T00:07:33.027336Z",
     "start_time": "2021-01-09T00:07:28.992855Z"
    }
   },
   "outputs": [],
   "source": [
    "## We are doing sequence classification (Blurr functionality)\n",
    "task = HF_TASKS_AUTO.SequenceClassification\n",
    "\n",
    "## Define your model (many hugging face models can be selected from here)\n",
    "pretrained_model_name = \"roberta-base\"\n",
    "\n",
    "## Blurr makes it easy to get configs related to model specified above (so convienient!)\n",
    "hf_arch, hf_config, hf_tokenizer, hf_model = BLURR_MODEL_HELPER.get_hf_objects(pretrained_model_name,  task=task)"
   ]
  },
  {
   "cell_type": "code",
   "execution_count": 8,
   "metadata": {
    "ExecuteTime": {
     "end_time": "2021-01-09T00:07:41.539663Z",
     "start_time": "2021-01-09T00:07:34.656408Z"
    }
   },
   "outputs": [],
   "source": [
    "## Create DataLoader using Blurr and FastAI Data loaders\n",
    "blocks = (HF_TextBlock(hf_arch, hf_config, hf_tokenizer, hf_model), CategoryBlock)\n",
    "dblock = DataBlock(\n",
    "    blocks=blocks,  \n",
    "    get_x=ColReader('text'), \n",
    "    get_y=ColReader('label'), \n",
    "    splitter=RandomSplitter(0.2, seed=42))\n",
    "dls = dblock.dataloaders(train_df, bs=16)"
   ]
  },
  {
   "cell_type": "code",
   "execution_count": 9,
   "metadata": {
    "ExecuteTime": {
     "end_time": "2021-01-09T00:07:41.573238Z",
     "start_time": "2021-01-09T00:07:41.542038Z"
    }
   },
   "outputs": [
    {
     "data": {
      "text/html": [
       "<table border=\"1\" class=\"dataframe\">\n",
       "  <thead>\n",
       "    <tr style=\"text-align: right;\">\n",
       "      <th></th>\n",
       "      <th>text</th>\n",
       "      <th>category</th>\n",
       "    </tr>\n",
       "  </thead>\n",
       "  <tbody>\n",
       "    <tr>\n",
       "      <th>0</th>\n",
       "      <td>orange mood today mood my mood orange bell ross bell and ross alligator skin alligator crocodile alligators trap samsung nike nike jordan air jordan ralph lauren polo polo ralph lauren london grad watch crocodiles trap london grad bell ross watches bell ross watch</td>\n",
       "      <td>0</td>\n",
       "    </tr>\n",
       "    <tr>\n",
       "      <th>1</th>\n",
       "      <td>me lo dices me lo pre gun as apple ya mi telef ono fun iona solo cone cta do la electric dad do you tell me or do yo ask me apple now my iphone works only connected have you asked yourself if you were in bad economic situation could you pay new phone apple</td>\n",
       "      <td>1</td>\n",
       "    </tr>\n",
       "  </tbody>\n",
       "</table>"
      ],
      "text/plain": [
       "<IPython.core.display.HTML object>"
      ]
     },
     "metadata": {},
     "output_type": "display_data"
    }
   ],
   "source": [
    "## Checking things are working fine\n",
    "dls.show_batch(dataloaders=dls, max_n=2)"
   ]
  },
  {
   "cell_type": "code",
   "execution_count": 10,
   "metadata": {
    "ExecuteTime": {
     "end_time": "2021-01-09T00:07:41.879729Z",
     "start_time": "2021-01-09T00:07:41.575818Z"
    }
   },
   "outputs": [],
   "source": [
    "## Define model \n",
    "model = HF_BaseModelWrapper(hf_model)\n",
    "learn = Learner(dls, \n",
    "                model,\n",
    "                opt_func=partial(Adam, decouple_wd=True),\n",
    "                loss_func=CrossEntropyLossFlat(),\n",
    "                metrics=[accuracy],\n",
    "                cbs=[HF_BaseModelCallback],\n",
    "                splitter=hf_splitter)\n",
    "\n",
    "learn.create_opt() "
   ]
  },
  {
   "cell_type": "code",
   "execution_count": 11,
   "metadata": {
    "ExecuteTime": {
     "end_time": "2021-01-09T00:11:54.644858Z",
     "start_time": "2021-01-09T00:07:47.380953Z"
    }
   },
   "outputs": [
    {
     "data": {
      "text/html": [
       "<table border=\"1\" class=\"dataframe\">\n",
       "  <thead>\n",
       "    <tr style=\"text-align: left;\">\n",
       "      <th>epoch</th>\n",
       "      <th>train_loss</th>\n",
       "      <th>valid_loss</th>\n",
       "      <th>accuracy</th>\n",
       "      <th>time</th>\n",
       "    </tr>\n",
       "  </thead>\n",
       "  <tbody>\n",
       "    <tr>\n",
       "      <td>0</td>\n",
       "      <td>0.240458</td>\n",
       "      <td>0.206810</td>\n",
       "      <td>0.913510</td>\n",
       "      <td>01:23</td>\n",
       "    </tr>\n",
       "    <tr>\n",
       "      <td>1</td>\n",
       "      <td>0.223451</td>\n",
       "      <td>0.194227</td>\n",
       "      <td>0.920455</td>\n",
       "      <td>01:22</td>\n",
       "    </tr>\n",
       "    <tr>\n",
       "      <td>2</td>\n",
       "      <td>0.215212</td>\n",
       "      <td>0.191924</td>\n",
       "      <td>0.919192</td>\n",
       "      <td>01:21</td>\n",
       "    </tr>\n",
       "  </tbody>\n",
       "</table>"
      ],
      "text/plain": [
       "<IPython.core.display.HTML object>"
      ]
     },
     "metadata": {},
     "output_type": "display_data"
    }
   ],
   "source": [
    "## Only training last layer so freeze everything else\n",
    "learn.freeze()\n",
    "## Train for 5 epochs\n",
    "learn.fit_one_cycle(3, lr_max=1e-3)"
   ]
  },
  {
   "cell_type": "markdown",
   "metadata": {},
   "source": [
    "## Making Predictions"
   ]
  },
  {
   "cell_type": "code",
   "execution_count": 12,
   "metadata": {
    "ExecuteTime": {
     "end_time": "2021-01-09T00:12:02.456829Z",
     "start_time": "2021-01-09T00:11:54.646769Z"
    }
   },
   "outputs": [
    {
     "data": {
      "text/html": [],
      "text/plain": [
       "<IPython.core.display.HTML object>"
      ]
     },
     "metadata": {},
     "output_type": "display_data"
    }
   ],
   "source": [
    "test_dl = learn.dls.test_dl(test_df)\n",
    "preds, _ = learn.get_preds(dl=test_dl, reorder=False)"
   ]
  },
  {
   "cell_type": "code",
   "execution_count": 13,
   "metadata": {
    "ExecuteTime": {
     "end_time": "2021-01-09T00:12:02.468280Z",
     "start_time": "2021-01-09T00:12:02.459661Z"
    }
   },
   "outputs": [],
   "source": [
    "submission = pd.DataFrame({'id':test_df.iloc[test_dl.get_idxs(),0].values})\n",
    "submission['label'] = preds.argmax(axis=1)"
   ]
  },
  {
   "cell_type": "code",
   "execution_count": 14,
   "metadata": {
    "ExecuteTime": {
     "end_time": "2021-01-09T00:12:02.491741Z",
     "start_time": "2021-01-09T00:12:02.470138Z"
    }
   },
   "outputs": [],
   "source": [
    "submission.to_csv(\"./submission/submission_blurr_roberta_base.csv\", index=False)"
   ]
  },
  {
   "cell_type": "code",
   "execution_count": 15,
   "metadata": {
    "ExecuteTime": {
     "end_time": "2021-01-09T00:12:02.513575Z",
     "start_time": "2021-01-09T00:12:02.493530Z"
    }
   },
   "outputs": [],
   "source": [
    "## Get Probabilities\n",
    "submission['label']  = preds[:,1]\n",
    "submission.to_csv(\"./submission/submission_blurr_bert_roberta_base_prob.csv\", index=False)"
   ]
  }
 ],
 "metadata": {
  "kernelspec": {
   "display_name": "Python 3",
   "language": "python",
   "name": "python3"
  },
  "language_info": {
   "codemirror_mode": {
    "name": "ipython",
    "version": 3
   },
   "file_extension": ".py",
   "mimetype": "text/x-python",
   "name": "python",
   "nbconvert_exporter": "python",
   "pygments_lexer": "ipython3",
   "version": "3.8.5"
  },
  "toc": {
   "base_numbering": 1,
   "nav_menu": {},
   "number_sections": true,
   "sideBar": true,
   "skip_h1_title": false,
   "title_cell": "Table of Contents",
   "title_sidebar": "Contents",
   "toc_cell": false,
   "toc_position": {},
   "toc_section_display": true,
   "toc_window_display": true
  }
 },
 "nbformat": 4,
 "nbformat_minor": 4
}
